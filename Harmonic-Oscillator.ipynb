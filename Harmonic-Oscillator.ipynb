{
 "cells": [
  {
   "cell_type": "code",
   "execution_count": 2,
   "metadata": {},
   "outputs": [],
   "source": [
    "import numpy as np\n",
    "from numpy import pi\n",
    "# importing Qiskit\n",
    "from qiskit import QuantumCircuit\n",
    "from qiskit import ClassicalRegister, QuantumRegister\n",
    "import matplotlib.pyplot as plt"
   ]
  },
  {
   "cell_type": "code",
   "execution_count": 3,
   "metadata": {},
   "outputs": [],
   "source": [
    "def sim_sv(qc,text):\n",
    "    \"\"\"Get the statevecor of the output of the circuit qc\"\"\"\n",
    "    #import libs\n",
    "    from qiskit_textbook.tools import vector2latex\n",
    "    from qiskit import Aer, execute\n",
    "    from qiskit.quantum_info import Statevector\n",
    "    #code\n",
    "    sv_sim = Aer.get_backend('statevector_simulator')\n",
    "    sv = execute (qc, sv_sim).result().get_statevector()\n",
    "    #vector2latex(sv, pretext = \"|\"+ text + \"\\\\rangle =\")\n",
    "    return sv"
   ]
  },
  {
   "cell_type": "code",
   "execution_count": 4,
   "metadata": {},
   "outputs": [],
   "source": [
    "def qft_rotations(circuit, n):\n",
    "    \"\"\"Performs qft on the first n qubits in circuit (without swaps)\"\"\"\n",
    "    for i in range (n):\n",
    "        circuit.h(i)\n",
    "        m = 1\n",
    "        for j in range (i+1,n):\n",
    "            m = m +1; \n",
    "            circuit.cu1(-2*pi/2**(m), i, j)"
   ]
  },
  {
   "cell_type": "code",
   "execution_count": 5,
   "metadata": {},
   "outputs": [],
   "source": [
    "def swap_registers(circuit, n):\n",
    "    for qubit in range(n//2):\n",
    "        circuit.swap(qubit, n-qubit-1)\n",
    "    return circuit"
   ]
  },
  {
   "cell_type": "code",
   "execution_count": 6,
   "metadata": {},
   "outputs": [],
   "source": [
    "def makeQFTgate(N):\n",
    "    \"\"\"returns a gate of centred QFT, swaps qubits\"\"\"\n",
    "    temp = QuantumCircuit (N)\n",
    "    swap_registers(temp, N)\n",
    "    qft_rotations(temp,N)\n",
    "    temp.x(n-1);\n",
    "    QFTC = temp.to_gate()\n",
    "    QFTC.name = \"QFT_\" + str(N) \n",
    "    return QFTC"
   ]
  },
  {
   "cell_type": "code",
   "execution_count": 7,
   "metadata": {},
   "outputs": [],
   "source": [
    "def phase(n, phi):\n",
    "    \"\"\"returns the phase transformation gate for n qubits\"\"\"\n",
    "    qc = QuantumCircuit(n+1);\n",
    "    for i in range (n):\n",
    "        qc.u1(phi/(2**(i+n-3)), n-1-i)\n",
    "    for i in range (n):\n",
    "        for j in range (i+1,n):\n",
    "            qc.cx(n-1-j, n)\n",
    "            qc.cx(n-1-i, n)\n",
    "            qc.u1(phi* (2**(2-i-j)), n) #2-i-j or 4?\n",
    "            qc.cx(n-1-i, n)\n",
    "            qc.cx(n-1-j, n)\n",
    "    phcirc = qc.to_gate()\n",
    "    phcirc.name = 'phase'+str(phi)\n",
    "    return phcirc"
   ]
  },
  {
   "cell_type": "code",
   "execution_count": 12,
   "metadata": {},
   "outputs": [],
   "source": [
    "def evolve (n,phi,initial_state, stepsnumber):\n",
    "    ## make the circuit\n",
    "    n1 = n+1\n",
    "    snaps = []\n",
    "    m = 2**7\n",
    "    #qubits\n",
    "    for i in range (stepsnumber):\n",
    "        q = QuantumRegister(n1)\n",
    "        qc = QuantumCircuit(q)\n",
    "        qc.barrier();\n",
    "        #initialization\n",
    "        magnitude = np.linalg.norm(initial_state)\n",
    "        initial_state =initial_state/magnitude\n",
    "        qc.initialize(initial_state, list(range(n))) \n",
    "        qc.barrier();\n",
    "        #gates\n",
    "        QFT = makeQFTgate(n)\n",
    "        phkinetic = phase (n,(i+1)*phi/m)\n",
    "        QFTi = QFT.inverse()\n",
    "        QFTi.name = \"QFTi_\" + str(n)\n",
    "        phpotential = phase (n,((i+1)*16*phi/2/4)/m)\n",
    "        for j in range (m):\n",
    "            #QFT\n",
    "            qc.append(QFT,range(n))\n",
    "            qc.barrier();\n",
    "            #phase\n",
    "            qc.append(phkinetic,range(n+1))\n",
    "            qc.barrier();\n",
    "            #inverse QFT\n",
    "            qc.append(QFTi,list(range(n)))\n",
    "            qc.barrier()\n",
    "            #another phase for the harmonic potential\n",
    "            qc.append(phpotential,range(n+1))\n",
    "        finalstate = sim_sv(qc,'\\psi')\n",
    "        prob = np.square(abs(finalstate))\n",
    "        snaps.append(prob)\n",
    "    return snaps"
   ]
  },
  {
   "cell_type": "code",
   "execution_count": 13,
   "metadata": {},
   "outputs": [],
   "source": [
    "def action ():\n",
    "    snaps = evolve(n,phi,initial_state, stepsnumber)\n",
    "    plt.plot(np.square(abs(initial_state)),'r')\n",
    "    leg = [\"initial\"]\n",
    "    plt.xlabel(\"x basis\")\n",
    "    plt.ylabel(\"relative prob.\")\n",
    "    for i in range (stepsnumber):\n",
    "        plt.plot(snaps[i])\n",
    "        leg. append (\"step_\"+str(i+1))\n",
    "    x=plt.axis([0, 2**n-1, 0, 1.1*max(np.square(abs(initial_state)))])\n",
    "    plt.legend(leg)"
   ]
  },
  {
   "cell_type": "code",
   "execution_count": 14,
   "metadata": {},
   "outputs": [
    {
     "data": {
      "image/png": "[encoded data removed]",
      "text/plain": [
       "<Figure size 432x288 with 1 Axes>"
      ]
     },
     "metadata": {
      "needs_background": "light"
     },
     "output_type": "display_data"
    }
   ],
   "source": [
    "##parameters\n",
    "n = 10; ## number of qubits\n",
    "phi = 200*pi; ##time of evolution \n",
    "#width= 14*2; ## 14*2 works so well centered (splitted) non moving gaussian without x gate (centering) (2 because of doupling potential)\n",
    "             ## 15.2 + sqrt what works so well for coherent state oscillation with n = 10 and width  phi = 200 * pi\n",
    "             ## 15.2 \n",
    "width = 15.2/2; ## this is the correct width;              \n",
    "#initial_state = np.sqrt(np.exp(-(np.linspace(0,2**n-1, 2**n) - (2**n/2) +0.5)**2/(2*width**2))) # n Centred Gaussian\n",
    "## ground state of harmonic oscillator # actually not an error sqrt of gaussian is gaussian\n",
    "\n",
    "#initial_state = (np.exp(-(np.linspace(0,2**n-1, 2**n) )**2/(2*width**2))) + (np.exp(-(np.linspace(0,2**n-1, 2**n) -2**n)**2/(2*width**2)))\n",
    "## removed the sqrt what an error\n",
    "\n",
    "#initial_state = np.sqrt(np.exp(-(np.linspace(0,2**n-1, 2**n) - (2**n/3) +0.5)**2/(2*15**2)))+np.sqrt(np.exp(-(np.linspace(0,2**n-1, 2**n) - (2*2**n/3) +0.5)**2/(2*15**2)))\n",
    "# coherent state\n",
    "initial_state = np.sqrt(np.exp(-(np.linspace(0,2**n-1, 2**n) - (2**n/3) +0.5)**2/(2*width**2))) ## biased gaussian \n",
    "\n",
    "##general energy state \n",
    "#w=2 #harmonic\n",
    "#mom = np.zeros(2**n);\n",
    "#mom[w]=1\n",
    "#mom [2**n-w]=1\n",
    "#initial_state= np.fft.fft(mom,2**n)\n",
    "magnitude = np.linalg.norm(initial_state)\n",
    "initial_state =initial_state/magnitude\n",
    "\n",
    "\n",
    "stepsnumber = 5; \n",
    "action()\n",
    "\n",
    "# put x back and recentered the guassian\n"
   ]
  },
  {
   "cell_type": "code",
   "execution_count": null,
   "metadata": {},
   "outputs": [],
   "source": []
  },
  {
   "cell_type": "code",
   "execution_count": null,
   "metadata": {},
   "outputs": [],
   "source": []
  },
  {
   "cell_type": "code",
   "execution_count": null,
   "metadata": {},
   "outputs": [],
   "source": []
  },
  {
   "cell_type": "code",
   "execution_count": null,
   "metadata": {},
   "outputs": [],
   "source": []
  },
  {
   "cell_type": "code",
   "execution_count": null,
   "metadata": {},
   "outputs": [],
   "source": []
  },
  {
   "cell_type": "code",
   "execution_count": null,
   "metadata": {},
   "outputs": [],
   "source": []
  },
  {
   "cell_type": "code",
   "execution_count": null,
   "metadata": {},
   "outputs": [],
   "source": []
  },
  {
   "cell_type": "code",
   "execution_count": null,
   "metadata": {},
   "outputs": [],
   "source": []
  },
  {
   "cell_type": "code",
   "execution_count": null,
   "metadata": {},
   "outputs": [],
   "source": []
  },
  {
   "cell_type": "code",
   "execution_count": null,
   "metadata": {},
   "outputs": [],
   "source": []
  },
  {
   "cell_type": "code",
   "execution_count": null,
   "metadata": {},
   "outputs": [],
   "source": []
  },
  {
   "cell_type": "code",
   "execution_count": null,
   "metadata": {},
   "outputs": [],
   "source": []
  },
  {
   "cell_type": "code",
   "execution_count": null,
   "metadata": {},
   "outputs": [],
   "source": []
  },
  {
   "cell_type": "code",
   "execution_count": null,
   "metadata": {},
   "outputs": [],
   "source": []
  },
  {
   "cell_type": "code",
   "execution_count": null,
   "metadata": {},
   "outputs": [],
   "source": []
  },
  {
   "cell_type": "code",
   "execution_count": null,
   "metadata": {},
   "outputs": [],
   "source": []
  }
 ],
 "metadata": {
  "kernelspec": {
   "display_name": "Python 3",
   "language": "python",
   "name": "python3"
  },
  "language_info": {
   "codemirror_mode": {
    "name": "ipython",
    "version": 3
   },
   "file_extension": ".py",
   "mimetype": "text/x-python",
   "name": "python",
   "nbconvert_exporter": "python",
   "pygments_lexer": "ipython3",
   "version": "3.8.5"
  }
 },
 "nbformat": 4,
 "nbformat_minor": 4
}
