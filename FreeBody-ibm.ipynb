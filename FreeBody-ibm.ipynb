{
 "cells": [
  {
   "cell_type": "code",
   "execution_count": 20,
   "metadata": {},
   "outputs": [
    {
     "name": "stderr",
     "output_type": "stream",
     "text": [
      "C:\\Users\\Student\\anaconda3\\lib\\site-packages\\numpy\\core\\_asarray.py:136: VisibleDeprecationWarning: Creating an ndarray from ragged nested sequences (which is a list-or-tuple of lists-or-tuples-or ndarrays with different lengths or shapes) is deprecated. If you meant to do this, you must specify 'dtype=object' when creating the ndarray\n",
      "  return array(a, dtype, copy=False, order=order, subok=True)\n"
     ]
    },
    {
     "ename": "TypeError",
     "evalue": "float() argument must be a string or a number, not 'Barrier'",
     "output_type": "error",
     "traceback": [
      "\u001b[1;31m---------------------------------------------------------------------------\u001b[0m",
      "\u001b[1;31mTypeError\u001b[0m                                 Traceback (most recent call last)",
      "\u001b[1;32m<ipython-input-20-250258087652>\u001b[0m in \u001b[0;36m<module>\u001b[1;34m\u001b[0m\n\u001b[0;32m    124\u001b[0m \u001b[1;33m\u001b[0m\u001b[0m\n\u001b[0;32m    125\u001b[0m \u001b[0mstepsnumber\u001b[0m \u001b[1;33m=\u001b[0m \u001b[1;36m1\u001b[0m\u001b[1;33m;\u001b[0m\u001b[1;33m\u001b[0m\u001b[1;33m\u001b[0m\u001b[0m\n\u001b[1;32m--> 126\u001b[1;33m \u001b[0maction\u001b[0m\u001b[1;33m(\u001b[0m\u001b[1;33m)\u001b[0m\u001b[1;33m;\u001b[0m\u001b[1;33m\u001b[0m\u001b[1;33m\u001b[0m\u001b[0m\n\u001b[0m\u001b[0;32m    127\u001b[0m \u001b[1;33m\u001b[0m\u001b[0m\n\u001b[0;32m    128\u001b[0m \u001b[1;31m# try removing and putting x, swaps, inv F in place of F, and so on in the harmonic potential.\u001b[0m\u001b[1;33m\u001b[0m\u001b[1;33m\u001b[0m\u001b[1;33m\u001b[0m\u001b[0m\n",
      "\u001b[1;32m<ipython-input-20-250258087652>\u001b[0m in \u001b[0;36maction\u001b[1;34m()\u001b[0m\n\u001b[0;32m     96\u001b[0m     \u001b[0mplt\u001b[0m\u001b[1;33m.\u001b[0m\u001b[0mylabel\u001b[0m\u001b[1;33m(\u001b[0m\u001b[1;34m\"relative prob.\"\u001b[0m\u001b[1;33m)\u001b[0m\u001b[1;33m\u001b[0m\u001b[1;33m\u001b[0m\u001b[0m\n\u001b[0;32m     97\u001b[0m     \u001b[1;32mfor\u001b[0m \u001b[0mi\u001b[0m \u001b[1;32min\u001b[0m \u001b[0mrange\u001b[0m \u001b[1;33m(\u001b[0m\u001b[0mstepsnumber\u001b[0m\u001b[1;33m)\u001b[0m\u001b[1;33m:\u001b[0m\u001b[1;33m\u001b[0m\u001b[1;33m\u001b[0m\u001b[0m\n\u001b[1;32m---> 98\u001b[1;33m         \u001b[0mplt\u001b[0m\u001b[1;33m.\u001b[0m\u001b[0mplot\u001b[0m\u001b[1;33m(\u001b[0m\u001b[0msnaps\u001b[0m\u001b[1;33m[\u001b[0m\u001b[0mi\u001b[0m\u001b[1;33m]\u001b[0m\u001b[1;33m)\u001b[0m\u001b[1;33m\u001b[0m\u001b[1;33m\u001b[0m\u001b[0m\n\u001b[0m\u001b[0;32m     99\u001b[0m         \u001b[0mleg\u001b[0m\u001b[1;33m.\u001b[0m \u001b[0mappend\u001b[0m \u001b[1;33m(\u001b[0m\u001b[1;34m\"step_\"\u001b[0m\u001b[1;33m+\u001b[0m\u001b[0mstr\u001b[0m\u001b[1;33m(\u001b[0m\u001b[0mi\u001b[0m\u001b[1;33m+\u001b[0m\u001b[1;36m1\u001b[0m\u001b[1;33m)\u001b[0m\u001b[1;33m)\u001b[0m\u001b[1;33m\u001b[0m\u001b[1;33m\u001b[0m\u001b[0m\n\u001b[0;32m    100\u001b[0m     \u001b[0mx\u001b[0m\u001b[1;33m=\u001b[0m\u001b[0mplt\u001b[0m\u001b[1;33m.\u001b[0m\u001b[0maxis\u001b[0m\u001b[1;33m(\u001b[0m\u001b[1;33m[\u001b[0m\u001b[1;36m0\u001b[0m\u001b[1;33m,\u001b[0m \u001b[1;36m2\u001b[0m\u001b[1;33m**\u001b[0m\u001b[0mn\u001b[0m\u001b[1;33m-\u001b[0m\u001b[1;36m1\u001b[0m\u001b[1;33m,\u001b[0m \u001b[1;36m0\u001b[0m\u001b[1;33m,\u001b[0m \u001b[1;36m1.1\u001b[0m\u001b[1;33m*\u001b[0m\u001b[0mmax\u001b[0m\u001b[1;33m(\u001b[0m\u001b[0mnp\u001b[0m\u001b[1;33m.\u001b[0m\u001b[0msquare\u001b[0m\u001b[1;33m(\u001b[0m\u001b[0mabs\u001b[0m\u001b[1;33m(\u001b[0m\u001b[0minitial_state\u001b[0m\u001b[1;33m)\u001b[0m\u001b[1;33m)\u001b[0m\u001b[1;33m)\u001b[0m\u001b[1;33m]\u001b[0m\u001b[1;33m)\u001b[0m\u001b[1;33m\u001b[0m\u001b[1;33m\u001b[0m\u001b[0m\n",
      "\u001b[1;32m~\\anaconda3\\lib\\site-packages\\matplotlib\\pyplot.py\u001b[0m in \u001b[0;36mplot\u001b[1;34m(scalex, scaley, data, *args, **kwargs)\u001b[0m\n\u001b[0;32m   2838\u001b[0m \u001b[1;33m@\u001b[0m\u001b[0m_copy_docstring_and_deprecators\u001b[0m\u001b[1;33m(\u001b[0m\u001b[0mAxes\u001b[0m\u001b[1;33m.\u001b[0m\u001b[0mplot\u001b[0m\u001b[1;33m)\u001b[0m\u001b[1;33m\u001b[0m\u001b[1;33m\u001b[0m\u001b[0m\n\u001b[0;32m   2839\u001b[0m \u001b[1;32mdef\u001b[0m \u001b[0mplot\u001b[0m\u001b[1;33m(\u001b[0m\u001b[1;33m*\u001b[0m\u001b[0margs\u001b[0m\u001b[1;33m,\u001b[0m \u001b[0mscalex\u001b[0m\u001b[1;33m=\u001b[0m\u001b[1;32mTrue\u001b[0m\u001b[1;33m,\u001b[0m \u001b[0mscaley\u001b[0m\u001b[1;33m=\u001b[0m\u001b[1;32mTrue\u001b[0m\u001b[1;33m,\u001b[0m \u001b[0mdata\u001b[0m\u001b[1;33m=\u001b[0m\u001b[1;32mNone\u001b[0m\u001b[1;33m,\u001b[0m \u001b[1;33m**\u001b[0m\u001b[0mkwargs\u001b[0m\u001b[1;33m)\u001b[0m\u001b[1;33m:\u001b[0m\u001b[1;33m\u001b[0m\u001b[1;33m\u001b[0m\u001b[0m\n\u001b[1;32m-> 2840\u001b[1;33m     return gca().plot(\n\u001b[0m\u001b[0;32m   2841\u001b[0m         \u001b[1;33m*\u001b[0m\u001b[0margs\u001b[0m\u001b[1;33m,\u001b[0m \u001b[0mscalex\u001b[0m\u001b[1;33m=\u001b[0m\u001b[0mscalex\u001b[0m\u001b[1;33m,\u001b[0m \u001b[0mscaley\u001b[0m\u001b[1;33m=\u001b[0m\u001b[0mscaley\u001b[0m\u001b[1;33m,\u001b[0m\u001b[1;33m\u001b[0m\u001b[1;33m\u001b[0m\u001b[0m\n\u001b[0;32m   2842\u001b[0m         **({\"data\": data} if data is not None else {}), **kwargs)\n",
      "\u001b[1;32m~\\anaconda3\\lib\\site-packages\\matplotlib\\axes\\_axes.py\u001b[0m in \u001b[0;36mplot\u001b[1;34m(self, scalex, scaley, data, *args, **kwargs)\u001b[0m\n\u001b[0;32m   1743\u001b[0m         \u001b[0mlines\u001b[0m \u001b[1;33m=\u001b[0m \u001b[1;33m[\u001b[0m\u001b[1;33m*\u001b[0m\u001b[0mself\u001b[0m\u001b[1;33m.\u001b[0m\u001b[0m_get_lines\u001b[0m\u001b[1;33m(\u001b[0m\u001b[1;33m*\u001b[0m\u001b[0margs\u001b[0m\u001b[1;33m,\u001b[0m \u001b[0mdata\u001b[0m\u001b[1;33m=\u001b[0m\u001b[0mdata\u001b[0m\u001b[1;33m,\u001b[0m \u001b[1;33m**\u001b[0m\u001b[0mkwargs\u001b[0m\u001b[1;33m)\u001b[0m\u001b[1;33m]\u001b[0m\u001b[1;33m\u001b[0m\u001b[1;33m\u001b[0m\u001b[0m\n\u001b[0;32m   1744\u001b[0m         \u001b[1;32mfor\u001b[0m \u001b[0mline\u001b[0m \u001b[1;32min\u001b[0m \u001b[0mlines\u001b[0m\u001b[1;33m:\u001b[0m\u001b[1;33m\u001b[0m\u001b[1;33m\u001b[0m\u001b[0m\n\u001b[1;32m-> 1745\u001b[1;33m             \u001b[0mself\u001b[0m\u001b[1;33m.\u001b[0m\u001b[0madd_line\u001b[0m\u001b[1;33m(\u001b[0m\u001b[0mline\u001b[0m\u001b[1;33m)\u001b[0m\u001b[1;33m\u001b[0m\u001b[1;33m\u001b[0m\u001b[0m\n\u001b[0m\u001b[0;32m   1746\u001b[0m         \u001b[0mself\u001b[0m\u001b[1;33m.\u001b[0m\u001b[0m_request_autoscale_view\u001b[0m\u001b[1;33m(\u001b[0m\u001b[0mscalex\u001b[0m\u001b[1;33m=\u001b[0m\u001b[0mscalex\u001b[0m\u001b[1;33m,\u001b[0m \u001b[0mscaley\u001b[0m\u001b[1;33m=\u001b[0m\u001b[0mscaley\u001b[0m\u001b[1;33m)\u001b[0m\u001b[1;33m\u001b[0m\u001b[1;33m\u001b[0m\u001b[0m\n\u001b[0;32m   1747\u001b[0m         \u001b[1;32mreturn\u001b[0m \u001b[0mlines\u001b[0m\u001b[1;33m\u001b[0m\u001b[1;33m\u001b[0m\u001b[0m\n",
      "\u001b[1;32m~\\anaconda3\\lib\\site-packages\\matplotlib\\axes\\_base.py\u001b[0m in \u001b[0;36madd_line\u001b[1;34m(self, line)\u001b[0m\n\u001b[0;32m   1962\u001b[0m             \u001b[0mline\u001b[0m\u001b[1;33m.\u001b[0m\u001b[0mset_clip_path\u001b[0m\u001b[1;33m(\u001b[0m\u001b[0mself\u001b[0m\u001b[1;33m.\u001b[0m\u001b[0mpatch\u001b[0m\u001b[1;33m)\u001b[0m\u001b[1;33m\u001b[0m\u001b[1;33m\u001b[0m\u001b[0m\n\u001b[0;32m   1963\u001b[0m \u001b[1;33m\u001b[0m\u001b[0m\n\u001b[1;32m-> 1964\u001b[1;33m         \u001b[0mself\u001b[0m\u001b[1;33m.\u001b[0m\u001b[0m_update_line_limits\u001b[0m\u001b[1;33m(\u001b[0m\u001b[0mline\u001b[0m\u001b[1;33m)\u001b[0m\u001b[1;33m\u001b[0m\u001b[1;33m\u001b[0m\u001b[0m\n\u001b[0m\u001b[0;32m   1965\u001b[0m         \u001b[1;32mif\u001b[0m \u001b[1;32mnot\u001b[0m \u001b[0mline\u001b[0m\u001b[1;33m.\u001b[0m\u001b[0mget_label\u001b[0m\u001b[1;33m(\u001b[0m\u001b[1;33m)\u001b[0m\u001b[1;33m:\u001b[0m\u001b[1;33m\u001b[0m\u001b[1;33m\u001b[0m\u001b[0m\n\u001b[0;32m   1966\u001b[0m             \u001b[0mline\u001b[0m\u001b[1;33m.\u001b[0m\u001b[0mset_label\u001b[0m\u001b[1;33m(\u001b[0m\u001b[1;34m'_line%d'\u001b[0m \u001b[1;33m%\u001b[0m \u001b[0mlen\u001b[0m\u001b[1;33m(\u001b[0m\u001b[0mself\u001b[0m\u001b[1;33m.\u001b[0m\u001b[0mlines\u001b[0m\u001b[1;33m)\u001b[0m\u001b[1;33m)\u001b[0m\u001b[1;33m\u001b[0m\u001b[1;33m\u001b[0m\u001b[0m\n",
      "\u001b[1;32m~\\anaconda3\\lib\\site-packages\\matplotlib\\axes\\_base.py\u001b[0m in \u001b[0;36m_update_line_limits\u001b[1;34m(self, line)\u001b[0m\n\u001b[0;32m   1984\u001b[0m         \u001b[0mFigures\u001b[0m \u001b[0mout\u001b[0m \u001b[0mthe\u001b[0m \u001b[0mdata\u001b[0m \u001b[0mlimit\u001b[0m \u001b[0mof\u001b[0m \u001b[0mthe\u001b[0m \u001b[0mgiven\u001b[0m \u001b[0mline\u001b[0m\u001b[1;33m,\u001b[0m \u001b[0mupdating\u001b[0m \u001b[0mself\u001b[0m\u001b[1;33m.\u001b[0m\u001b[0mdataLim\u001b[0m\u001b[1;33m.\u001b[0m\u001b[1;33m\u001b[0m\u001b[1;33m\u001b[0m\u001b[0m\n\u001b[0;32m   1985\u001b[0m         \"\"\"\n\u001b[1;32m-> 1986\u001b[1;33m         \u001b[0mpath\u001b[0m \u001b[1;33m=\u001b[0m \u001b[0mline\u001b[0m\u001b[1;33m.\u001b[0m\u001b[0mget_path\u001b[0m\u001b[1;33m(\u001b[0m\u001b[1;33m)\u001b[0m\u001b[1;33m\u001b[0m\u001b[1;33m\u001b[0m\u001b[0m\n\u001b[0m\u001b[0;32m   1987\u001b[0m         \u001b[1;32mif\u001b[0m \u001b[0mpath\u001b[0m\u001b[1;33m.\u001b[0m\u001b[0mvertices\u001b[0m\u001b[1;33m.\u001b[0m\u001b[0msize\u001b[0m \u001b[1;33m==\u001b[0m \u001b[1;36m0\u001b[0m\u001b[1;33m:\u001b[0m\u001b[1;33m\u001b[0m\u001b[1;33m\u001b[0m\u001b[0m\n\u001b[0;32m   1988\u001b[0m             \u001b[1;32mreturn\u001b[0m\u001b[1;33m\u001b[0m\u001b[1;33m\u001b[0m\u001b[0m\n",
      "\u001b[1;32m~\\anaconda3\\lib\\site-packages\\matplotlib\\lines.py\u001b[0m in \u001b[0;36mget_path\u001b[1;34m(self)\u001b[0m\n\u001b[0;32m   1009\u001b[0m         \"\"\"\n\u001b[0;32m   1010\u001b[0m         \u001b[1;32mif\u001b[0m \u001b[0mself\u001b[0m\u001b[1;33m.\u001b[0m\u001b[0m_invalidy\u001b[0m \u001b[1;32mor\u001b[0m \u001b[0mself\u001b[0m\u001b[1;33m.\u001b[0m\u001b[0m_invalidx\u001b[0m\u001b[1;33m:\u001b[0m\u001b[1;33m\u001b[0m\u001b[1;33m\u001b[0m\u001b[0m\n\u001b[1;32m-> 1011\u001b[1;33m             \u001b[0mself\u001b[0m\u001b[1;33m.\u001b[0m\u001b[0mrecache\u001b[0m\u001b[1;33m(\u001b[0m\u001b[1;33m)\u001b[0m\u001b[1;33m\u001b[0m\u001b[1;33m\u001b[0m\u001b[0m\n\u001b[0m\u001b[0;32m   1012\u001b[0m         \u001b[1;32mreturn\u001b[0m \u001b[0mself\u001b[0m\u001b[1;33m.\u001b[0m\u001b[0m_path\u001b[0m\u001b[1;33m\u001b[0m\u001b[1;33m\u001b[0m\u001b[0m\n\u001b[0;32m   1013\u001b[0m \u001b[1;33m\u001b[0m\u001b[0m\n",
      "\u001b[1;32m~\\anaconda3\\lib\\site-packages\\matplotlib\\lines.py\u001b[0m in \u001b[0;36mrecache\u001b[1;34m(self, always)\u001b[0m\n\u001b[0;32m    656\u001b[0m         \u001b[1;32mif\u001b[0m \u001b[0malways\u001b[0m \u001b[1;32mor\u001b[0m \u001b[0mself\u001b[0m\u001b[1;33m.\u001b[0m\u001b[0m_invalidy\u001b[0m\u001b[1;33m:\u001b[0m\u001b[1;33m\u001b[0m\u001b[1;33m\u001b[0m\u001b[0m\n\u001b[0;32m    657\u001b[0m             \u001b[0myconv\u001b[0m \u001b[1;33m=\u001b[0m \u001b[0mself\u001b[0m\u001b[1;33m.\u001b[0m\u001b[0mconvert_yunits\u001b[0m\u001b[1;33m(\u001b[0m\u001b[0mself\u001b[0m\u001b[1;33m.\u001b[0m\u001b[0m_yorig\u001b[0m\u001b[1;33m)\u001b[0m\u001b[1;33m\u001b[0m\u001b[1;33m\u001b[0m\u001b[0m\n\u001b[1;32m--> 658\u001b[1;33m             \u001b[0my\u001b[0m \u001b[1;33m=\u001b[0m \u001b[0m_to_unmasked_float_array\u001b[0m\u001b[1;33m(\u001b[0m\u001b[0myconv\u001b[0m\u001b[1;33m)\u001b[0m\u001b[1;33m.\u001b[0m\u001b[0mravel\u001b[0m\u001b[1;33m(\u001b[0m\u001b[1;33m)\u001b[0m\u001b[1;33m\u001b[0m\u001b[1;33m\u001b[0m\u001b[0m\n\u001b[0m\u001b[0;32m    659\u001b[0m         \u001b[1;32melse\u001b[0m\u001b[1;33m:\u001b[0m\u001b[1;33m\u001b[0m\u001b[1;33m\u001b[0m\u001b[0m\n\u001b[0;32m    660\u001b[0m             \u001b[0my\u001b[0m \u001b[1;33m=\u001b[0m \u001b[0mself\u001b[0m\u001b[1;33m.\u001b[0m\u001b[0m_y\u001b[0m\u001b[1;33m\u001b[0m\u001b[1;33m\u001b[0m\u001b[0m\n",
      "\u001b[1;32m~\\anaconda3\\lib\\site-packages\\matplotlib\\cbook\\__init__.py\u001b[0m in \u001b[0;36m_to_unmasked_float_array\u001b[1;34m(x)\u001b[0m\n\u001b[0;32m   1287\u001b[0m         \u001b[1;32mreturn\u001b[0m \u001b[0mnp\u001b[0m\u001b[1;33m.\u001b[0m\u001b[0mma\u001b[0m\u001b[1;33m.\u001b[0m\u001b[0masarray\u001b[0m\u001b[1;33m(\u001b[0m\u001b[0mx\u001b[0m\u001b[1;33m,\u001b[0m \u001b[0mfloat\u001b[0m\u001b[1;33m)\u001b[0m\u001b[1;33m.\u001b[0m\u001b[0mfilled\u001b[0m\u001b[1;33m(\u001b[0m\u001b[0mnp\u001b[0m\u001b[1;33m.\u001b[0m\u001b[0mnan\u001b[0m\u001b[1;33m)\u001b[0m\u001b[1;33m\u001b[0m\u001b[1;33m\u001b[0m\u001b[0m\n\u001b[0;32m   1288\u001b[0m     \u001b[1;32melse\u001b[0m\u001b[1;33m:\u001b[0m\u001b[1;33m\u001b[0m\u001b[1;33m\u001b[0m\u001b[0m\n\u001b[1;32m-> 1289\u001b[1;33m         \u001b[1;32mreturn\u001b[0m \u001b[0mnp\u001b[0m\u001b[1;33m.\u001b[0m\u001b[0masarray\u001b[0m\u001b[1;33m(\u001b[0m\u001b[0mx\u001b[0m\u001b[1;33m,\u001b[0m \u001b[0mfloat\u001b[0m\u001b[1;33m)\u001b[0m\u001b[1;33m\u001b[0m\u001b[1;33m\u001b[0m\u001b[0m\n\u001b[0m\u001b[0;32m   1290\u001b[0m \u001b[1;33m\u001b[0m\u001b[0m\n\u001b[0;32m   1291\u001b[0m \u001b[1;33m\u001b[0m\u001b[0m\n",
      "\u001b[1;32m~\\anaconda3\\lib\\site-packages\\numpy\\core\\_asarray.py\u001b[0m in \u001b[0;36masarray\u001b[1;34m(a, dtype, order)\u001b[0m\n\u001b[0;32m     81\u001b[0m \u001b[1;33m\u001b[0m\u001b[0m\n\u001b[0;32m     82\u001b[0m     \"\"\"\n\u001b[1;32m---> 83\u001b[1;33m     \u001b[1;32mreturn\u001b[0m \u001b[0marray\u001b[0m\u001b[1;33m(\u001b[0m\u001b[0ma\u001b[0m\u001b[1;33m,\u001b[0m \u001b[0mdtype\u001b[0m\u001b[1;33m,\u001b[0m \u001b[0mcopy\u001b[0m\u001b[1;33m=\u001b[0m\u001b[1;32mFalse\u001b[0m\u001b[1;33m,\u001b[0m \u001b[0morder\u001b[0m\u001b[1;33m=\u001b[0m\u001b[0morder\u001b[0m\u001b[1;33m)\u001b[0m\u001b[1;33m\u001b[0m\u001b[1;33m\u001b[0m\u001b[0m\n\u001b[0m\u001b[0;32m     84\u001b[0m \u001b[1;33m\u001b[0m\u001b[0m\n\u001b[0;32m     85\u001b[0m \u001b[1;33m\u001b[0m\u001b[0m\n",
      "\u001b[1;31mTypeError\u001b[0m: float() argument must be a string or a number, not 'Barrier'"
     ]
    },
    {
     "data": {
      "image/png": "[encoded data removed]",
      "text/plain": [
       "<Figure size 432x288 with 1 Axes>"
      ]
     },
     "metadata": {
      "needs_background": "light"
     },
     "output_type": "display_data"
    }
   ],
   "source": [
    "import numpy as np\n",
    "from numpy import pi\n",
    "# importing Qiskit\n",
    "from qiskit import QuantumCircuit\n",
    "from qiskit import ClassicalRegister, QuantumRegister\n",
    "import matplotlib.pyplot as plt\n",
    "def sim_sv(qc,text):\n",
    "    \"\"\"Get the statevecor of the output of the circuit qc\"\"\"\n",
    "    #import libs\n",
    "    from qiskit_textbook.tools import vector2latex\n",
    "    from qiskit import Aer, execute\n",
    "    from qiskit.quantum_info import Statevector\n",
    "    #code\n",
    "    sv_sim = Aer.get_backend('statevector_simulator')\n",
    "    sv = execute (qc, sv_sim).result().get_statevector()\n",
    "    #vector2latex(sv, pretext = \"|\"+ text + \"\\\\rangle =\")\n",
    "    return sv\n",
    "def qft_rotations(circuit, n):\n",
    "    \"\"\"Performs qft on the first n qubits in circuit (without swaps)\"\"\"\n",
    "    for i in range (n):\n",
    "        circuit.h(i)\n",
    "        m = 1\n",
    "        for j in range (i+1,n):\n",
    "            m = m +1; \n",
    "            circuit.cu1(-2*pi/2**(m), i, j)\n",
    "            \n",
    "def swap_registers(circuit, n):\n",
    "    for qubit in range(n//2):\n",
    "        circuit.swap(qubit, n-qubit-1)\n",
    "    return circuit\n",
    "def makeQFTgate(N):\n",
    "    \"\"\"returns a gate of centred QFT, swaps qubits\"\"\"\n",
    "    temp = QuantumCircuit (N)\n",
    "    swap_registers(temp, N)\n",
    "    qft_rotations(temp,N)\n",
    "    #temp.x(n-1);\n",
    "    QFTC = temp.to_gate()\n",
    "    QFTC.name = \"QFT_\" + str(N) \n",
    "    return QFTC\n",
    "def phase(n, phi):\n",
    "    \"\"\"returns the phase transformation gate for n qubits\"\"\"\n",
    "    qc = QuantumCircuit(n+1);\n",
    "    for i in range (n):\n",
    "        qc.u1(phi/(2**(i+n-3)), n-1-i)\n",
    "    for i in range (n):\n",
    "        for j in range (i+1,n):\n",
    "            qc.cx(n-1-j, n)\n",
    "            qc.cx(n-1-i, n)\n",
    "            qc.u1(phi* (2**(2-i-j)), n) #2-i-j or 4?\n",
    "            qc.cx(n-1-i, n)\n",
    "            qc.cx(n-1-j, n)\n",
    "    phcirc = qc.to_gate()\n",
    "    phcirc.name = 'phase'+str(phi)\n",
    "    return phcirc\n",
    "def evolve (n,phi,initial_state, stepsnumber):\n",
    "    ## make the circuit\n",
    "    n1 = n+1\n",
    "    snaps = []\n",
    "    #qubits\n",
    "    for i in range (stepsnumber):\n",
    "        q = QuantumRegister(n1)\n",
    "        qc = QuantumCircuit(q)\n",
    "        qc.barrier();\n",
    "        #initialization\n",
    "        magnitude = np.linalg.norm(initial_state)\n",
    "        initial_state =initial_state/magnitude\n",
    "        qc.initialize(initial_state, list(range(n))) \n",
    "        qc.barrier();\n",
    "        #QFT\n",
    "        QFT = makeQFTgate(n)\n",
    "        qc.append(QFT,range(n))\n",
    "        qc.barrier();\n",
    "        #phase\n",
    "        ph = phase (n,(i+1)*phi)\n",
    "        qc.append(ph,range(n+1))\n",
    "        qc.barrier();\n",
    "        #inverse QFT\n",
    "        QFTi = QFT.inverse()\n",
    "        QFTi.name = \"QFTi_\" + str(n)\n",
    "        qc.append(QFTi,list(range(n)))\n",
    "        qc.barrier()\n",
    "        #another phase for the harmonic potential\n",
    "        #qc.append(ph,range(n+1))\n",
    "        #qc.barrier();\n",
    "        \n",
    "        finalstate = sim_sv(qc,'\\psi')\n",
    "        prob = np.square(abs(finalstate))\n",
    "        snaps.append(prob)\n",
    "    #return snaps\n",
    "    return qc\n",
    "def action ():\n",
    "    snaps = evolve(n,phi,initial_state, stepsnumber)\n",
    "    plt.plot(np.square(abs(initial_state)),'r')\n",
    "    leg = [\"initial\"]\n",
    "    plt.xlabel(\"x basis\")\n",
    "    plt.ylabel(\"relative prob.\")    \n",
    "    for i in range (stepsnumber):\n",
    "        plt.plot(snaps[i])\n",
    "        leg. append (\"step_\"+str(i+1))\n",
    "    x=plt.axis([0, 2**n-1, 0, 1.1*max(np.square(abs(initial_state)))])\n",
    "    plt.legend(leg)\n",
    "    return snaps\n",
    "##parameters\n",
    "n = 3; ## number of qubits\n",
    "phi = 0.25*pi; ##time of evolution \n",
    "#initial_state = np.sqrt(np.exp(-(np.linspace(0,2**n-1, 2**n) - (2**n/3) +0.5)**2/(2*15**2)))+np.sqrt(np.exp(-(np.linspace(0,2**n-1, 2**n) - (2*2**n/3) +0.5)**2/(2*15**2)))\n",
    "width= 2**n/8;\n",
    "k=1; # k momentum; \n",
    "initial_state = (np.exp(-(np.linspace(0,2**n-1, 2**n) - (2**n/2) +0.5)**2/(2*width**2)))*(np.exp(-k*1j*(np.linspace(0,2**n-1, 2**n) - (2**n/2) +0.5)))# n Centred Gaussian\n",
    "\n",
    "#initial_state = [0,1,1,0] # n=2 Pi function\n",
    "#initial_state = [0,0,1,1,1,1,0,0] #n=3 Pi function\n",
    "#initial_state = [0,0,0,0,1,1,1,1,1,1,1,1,0,0,0,0] #n=4 Pi function\n",
    "\n",
    "##general energy state \n",
    "#w=0 #harmonic\n",
    "#mom = np.zeros(2**n);\n",
    "#mom[w]=1\n",
    "#mom [2**n-w]=1\n",
    "#initial_state= np.fft.fft(mom,2**n)\n",
    "magnitude = np.linalg.norm(initial_state)\n",
    "initial_state =initial_state/magnitude\n",
    "\n",
    "\n",
    "stepsnumber = 1; \n",
    "action();\n",
    "\n",
    "# try removing and putting x, swaps, inv F in place of F, and so on in the harmonic potential. "
   ]
  },
  {
   "cell_type": "code",
   "execution_count": 13,
   "metadata": {},
   "outputs": [],
   "source": [
    "from matplotlib.animation import FuncAnimation"
   ]
  },
  {
   "cell_type": "code",
   "execution_count": 14,
   "metadata": {},
   "outputs": [
    {
     "data": {
      "image/png": "[encoded data removed]",
      "text/plain": [
       "<Figure size 432x288 with 1 Axes>"
      ]
     },
     "metadata": {
      "needs_background": "light"
     },
     "output_type": "display_data"
    }
   ],
   "source": [
    "x_data = []\n",
    "y_data = []\n",
    "\n",
    "fig, ax = plt.subplots()\n",
    "\n",
    "def animation_frame(i):\n",
    "\ty_data=snaps[i]\n",
    "\tx=plt.axis([0, 2**n-1, 0, 1.1*max(np.square(abs(initial_state)))])\n",
    "\n",
    "\tline.set_xdata(x_data)\n",
    "\tline.set_ydata(y_data)\n",
    "    \n",
    "\treturn line, \n",
    "\n",
    "animation = FuncAnimation(fig, func=animation_frame, frames=np.arange(0, 0, 1), interval=10)\n",
    "plt.show()"
   ]
  },
  {
   "cell_type": "code",
   "execution_count": 15,
   "metadata": {},
   "outputs": [
    {
     "data": {
      "image/png": "[encoded data removed]",
      "text/plain": [
       "<Figure size 432x288 with 1 Axes>"
      ]
     },
     "metadata": {
      "needs_background": "light"
     },
     "output_type": "display_data"
    }
   ],
   "source": [
    "import numpy as np\n",
    "import matplotlib.pyplot as plt\n",
    "from matplotlib.animation import FuncAnimation\n",
    "\n",
    "x_data = []\n",
    "y_data = []\n",
    "\n",
    "fig, ax = plt.subplots()\n",
    "ax.set_xlim(0, 105)\n",
    "ax.set_ylim(0, 12)\n",
    "line, = ax.plot(0, 0)\n",
    "\n",
    "def animation_frame(i):\n",
    "\tx_data.append(i * 10)\n",
    "\ty_data.append(i)\n",
    "\n",
    "\tline.set_xdata(x_data)\n",
    "\tline.set_ydata(y_data)\n",
    "\treturn line, \n",
    "\n",
    "animation = FuncAnimation(fig, func=animation_frame, frames=np.arange(0, 10, 0.1), interval=10)\n",
    "plt.show()\n",
    "\n"
   ]
  },
  {
   "cell_type": "code",
   "execution_count": 21,
   "metadata": {},
   "outputs": [],
   "source": [
    "qc = evolve(n,phi,initial_state, stepsnumber)"
   ]
  },
  {
   "cell_type": "code",
   "execution_count": 22,
   "metadata": {},
   "outputs": [
    {
     "data": {
      "text/html": [
       "<pre style=\"word-wrap: normal;white-space: pre;background: #fff0;line-height: 1.1;font-family: &quot;Courier New&quot;,Courier,monospace\">        ░ »\n",
       "q56_0: ─░─»\n",
       "        ░ »\n",
       "q56_1: ─░─»\n",
       "        ░ »\n",
       "q56_2: ─░─»\n",
       "        ░ »\n",
       "q56_3: ─░─»\n",
       "        ░ »\n",
       "«       ┌────────────────────────────────────────────────────────────────────────────────────────────────────────────────────────────────────────────────────────────────────────┐»\n",
       "«q56_0: ┤0                                                                                                                                                                       ├»\n",
       "«       │                                                                                                                                                                        │»\n",
       "«q56_1: ┤1 initialize(-0.0015388-0.00057639j,-0.026441+0.019752j,0.01725+0.24326j,0.58175+0.31781j,0.58175-0.31781j,0.01725-0.24326j,-0.026441-0.019752j,-0.0015388+0.00057639j) ├»\n",
       "«       │                                                                                                                                                                        │»\n",
       "«q56_2: ┤2                                                                                                                                                                       ├»\n",
       "«       └────────────────────────────────────────────────────────────────────────────────────────────────────────────────────────────────────────────────────────────────────────┘»\n",
       "«q56_3: ──────────────────────────────────────────────────────────────────────────────────────────────────────────────────────────────────────────────────────────────────────────»\n",
       "«                                                                                                                                                                                 »\n",
       "«        ░ ┌────────┐ ░ ┌──────────────────────────┐ ░ ┌─────────┐ ░ \n",
       "«q56_0: ─░─┤0       ├─░─┤0                         ├─░─┤0        ├─░─\n",
       "«        ░ │        │ ░ │                          │ ░ │         │ ░ \n",
       "«q56_1: ─░─┤1 QFT_3 ├─░─┤1                         ├─░─┤1 QFTi_3 ├─░─\n",
       "«        ░ │        │ ░ │  phase0.7853981633974483 │ ░ │         │ ░ \n",
       "«q56_2: ─░─┤2       ├─░─┤2                         ├─░─┤2        ├─░─\n",
       "«        ░ └────────┘ ░ │                          │ ░ └─────────┘ ░ \n",
       "«q56_3: ─░────────────░─┤3                         ├─░─────────────░─\n",
       "«        ░            ░ └──────────────────────────┘ ░             ░ </pre>"
      ],
      "text/plain": [
       "        ░ »\n",
       "q56_0: ─░─»\n",
       "        ░ »\n",
       "q56_1: ─░─»\n",
       "        ░ »\n",
       "q56_2: ─░─»\n",
       "        ░ »\n",
       "q56_3: ─░─»\n",
       "        ░ »\n",
       "«       ┌────────────────────────────────────────────────────────────────────────────────────────────────────────────────────────────────────────────────────────────────────────┐»\n",
       "«q56_0: ┤0                                                                                                                                                                       ├»\n",
       "«       │                                                                                                                                                                        │»\n",
       "«q56_1: ┤1 initialize(-0.0015388-0.00057639j,-0.026441+0.019752j,0.01725+0.24326j,0.58175+0.31781j,0.58175-0.31781j,0.01725-0.24326j,-0.026441-0.019752j,-0.0015388+0.00057639j) ├»\n",
       "«       │                                                                                                                                                                        │»\n",
       "«q56_2: ┤2                                                                                                                                                                       ├»\n",
       "«       └────────────────────────────────────────────────────────────────────────────────────────────────────────────────────────────────────────────────────────────────────────┘»\n",
       "«q56_3: ──────────────────────────────────────────────────────────────────────────────────────────────────────────────────────────────────────────────────────────────────────────»\n",
       "«                                                                                                                                                                                 »\n",
       "«        ░ ┌────────┐ ░ ┌──────────────────────────┐ ░ ┌─────────┐ ░ \n",
       "«q56_0: ─░─┤0       ├─░─┤0                         ├─░─┤0        ├─░─\n",
       "«        ░ │        │ ░ │                          │ ░ │         │ ░ \n",
       "«q56_1: ─░─┤1 QFT_3 ├─░─┤1                         ├─░─┤1 QFTi_3 ├─░─\n",
       "«        ░ │        │ ░ │  phase0.7853981633974483 │ ░ │         │ ░ \n",
       "«q56_2: ─░─┤2       ├─░─┤2                         ├─░─┤2        ├─░─\n",
       "«        ░ └────────┘ ░ │                          │ ░ └─────────┘ ░ \n",
       "«q56_3: ─░────────────░─┤3                         ├─░─────────────░─\n",
       "«        ░            ░ └──────────────────────────┘ ░             ░ "
      ]
     },
     "execution_count": 22,
     "metadata": {},
     "output_type": "execute_result"
    }
   ],
   "source": [
    "qc.draw()\n"
   ]
  },
  {
   "cell_type": "code",
   "execution_count": 23,
   "metadata": {},
   "outputs": [],
   "source": [
    "qc.measure_all()"
   ]
  },
  {
   "cell_type": "code",
   "execution_count": 24,
   "metadata": {},
   "outputs": [
    {
     "data": {
      "text/html": [
       "<pre style=\"word-wrap: normal;white-space: pre;background: #fff0;line-height: 1.1;font-family: &quot;Courier New&quot;,Courier,monospace\">         ░      ┌──────────────────┐ ░    ┌───┐                               »\n",
       " q56_0: ─░──|0>─┤0                 ├─░──X─┤ H ├─■──────■──────────────────────»\n",
       "         ░      │                  │ ░  │ └───┘ │-π/2  │     ┌───┐            »\n",
       " q56_1: ─░──|0>─┤1 disentangler_dg ├─░──┼───────■──────┼─────┤ H ├─■──────────»\n",
       "         ░      │                  │ ░  │              │-π/4 └───┘ │-π/2 ┌───┐»\n",
       " q56_2: ─░──|0>─┤2                 ├─░──X──────────────■───────────■─────┤ H ├»\n",
       "         ░      └──────────────────┘ ░                                   └───┘»\n",
       " q56_3: ─░───────────────────────────░────────────────────────────────────────»\n",
       "         ░                           ░                                        »\n",
       "meas: 4/══════════════════════════════════════════════════════════════════════»\n",
       "                                                                              »\n",
       "«         ░ ┌──────────┐                                                    »\n",
       "« q56_0: ─░─┤ U1(π/16) ├─────────────────────────────────■──────────────────»\n",
       "«         ░ ├─────────┬┘                                 │                  »\n",
       "« q56_1: ─░─┤ U1(π/8) ├───■─────────────────────────■────┼──────────────────»\n",
       "«         ░ ├─────────┤   │                         │    │                  »\n",
       "« q56_2: ─░─┤ U1(π/4) ├───┼────■───────────────■────┼────┼────■─────────────»\n",
       "«         ░ └─────────┘ ┌─┴─┐┌─┴─┐┌─────────┐┌─┴─┐┌─┴─┐┌─┴─┐┌─┴─┐┌─────────┐»\n",
       "« q56_3: ─░─────────────┤ X ├┤ X ├┤ U1(π/2) ├┤ X ├┤ X ├┤ X ├┤ X ├┤ U1(π/4) ├»\n",
       "«         ░             └───┘└───┘└─────────┘└───┘└───┘└───┘└───┘└─────────┘»\n",
       "«meas: 4/═══════════════════════════════════════════════════════════════════»\n",
       "«                                                                           »\n",
       "«                                                  ░                       »\n",
       "« q56_0: ───────■────■─────────────────────────■───░─────────────■─────────»\n",
       "«               │    │                         │   ░             │    ┌───┐»\n",
       "« q56_1: ───────┼────┼────■───────────────■────┼───░───────■─────┼────┤ H ├»\n",
       "«               │    │    │               │    │   ░ ┌───┐ │π/2  │π/4 └───┘»\n",
       "« q56_2: ──■────┼────┼────┼───────────────┼────┼───░─┤ H ├─■─────■─────────»\n",
       "«        ┌─┴─┐┌─┴─┐┌─┴─┐┌─┴─┐┌─────────┐┌─┴─┐┌─┴─┐ ░ └───┘                 »\n",
       "« q56_3: ┤ X ├┤ X ├┤ X ├┤ X ├┤ U1(π/8) ├┤ X ├┤ X ├─░───────────────────────»\n",
       "«        └───┘└───┘└───┘└───┘└─────────┘└───┘└───┘ ░                       »\n",
       "«meas: 4/══════════════════════════════════════════════════════════════════»\n",
       "«                                                                          »\n",
       "«              ┌───┐    ░  ░ ┌─┐         \n",
       "« q56_0: ─■────┤ H ├─X──░──░─┤M├─────────\n",
       "«         │π/2 └───┘ │  ░  ░ └╥┘┌─┐      \n",
       "« q56_1: ─■──────────┼──░──░──╫─┤M├──────\n",
       "«                    │  ░  ░  ║ └╥┘┌─┐   \n",
       "« q56_2: ────────────X──░──░──╫──╫─┤M├───\n",
       "«                       ░  ░  ║  ║ └╥┘┌─┐\n",
       "« q56_3: ───────────────░──░──╫──╫──╫─┤M├\n",
       "«                       ░  ░  ║  ║  ║ └╥┘\n",
       "«meas: 4/═════════════════════╩══╩══╩══╩═\n",
       "«                             0  1  2  3 </pre>"
      ],
      "text/plain": [
       "         ░      ┌──────────────────┐ ░    ┌───┐                               »\n",
       " q56_0: ─░──|0>─┤0                 ├─░──X─┤ H ├─■──────■──────────────────────»\n",
       "         ░      │                  │ ░  │ └───┘ │-π/2  │     ┌───┐            »\n",
       " q56_1: ─░──|0>─┤1 disentangler_dg ├─░──┼───────■──────┼─────┤ H ├─■──────────»\n",
       "         ░      │                  │ ░  │              │-π/4 └───┘ │-π/2 ┌───┐»\n",
       " q56_2: ─░──|0>─┤2                 ├─░──X──────────────■───────────■─────┤ H ├»\n",
       "         ░      └──────────────────┘ ░                                   └───┘»\n",
       " q56_3: ─░───────────────────────────░────────────────────────────────────────»\n",
       "         ░                           ░                                        »\n",
       "meas: 4/══════════════════════════════════════════════════════════════════════»\n",
       "                                                                              »\n",
       "«         ░ ┌──────────┐                                                    »\n",
       "« q56_0: ─░─┤ U1(π/16) ├─────────────────────────────────■──────────────────»\n",
       "«         ░ ├─────────┬┘                                 │                  »\n",
       "« q56_1: ─░─┤ U1(π/8) ├───■─────────────────────────■────┼──────────────────»\n",
       "«         ░ ├─────────┤   │                         │    │                  »\n",
       "« q56_2: ─░─┤ U1(π/4) ├───┼────■───────────────■────┼────┼────■─────────────»\n",
       "«         ░ └─────────┘ ┌─┴─┐┌─┴─┐┌─────────┐┌─┴─┐┌─┴─┐┌─┴─┐┌─┴─┐┌─────────┐»\n",
       "« q56_3: ─░─────────────┤ X ├┤ X ├┤ U1(π/2) ├┤ X ├┤ X ├┤ X ├┤ X ├┤ U1(π/4) ├»\n",
       "«         ░             └───┘└───┘└─────────┘└───┘└───┘└───┘└───┘└─────────┘»\n",
       "«meas: 4/═══════════════════════════════════════════════════════════════════»\n",
       "«                                                                           »\n",
       "«                                                  ░                       »\n",
       "« q56_0: ───────■────■─────────────────────────■───░─────────────■─────────»\n",
       "«               │    │                         │   ░             │    ┌───┐»\n",
       "« q56_1: ───────┼────┼────■───────────────■────┼───░───────■─────┼────┤ H ├»\n",
       "«               │    │    │               │    │   ░ ┌───┐ │π/2  │π/4 └───┘»\n",
       "« q56_2: ──■────┼────┼────┼───────────────┼────┼───░─┤ H ├─■─────■─────────»\n",
       "«        ┌─┴─┐┌─┴─┐┌─┴─┐┌─┴─┐┌─────────┐┌─┴─┐┌─┴─┐ ░ └───┘                 »\n",
       "« q56_3: ┤ X ├┤ X ├┤ X ├┤ X ├┤ U1(π/8) ├┤ X ├┤ X ├─░───────────────────────»\n",
       "«        └───┘└───┘└───┘└───┘└─────────┘└───┘└───┘ ░                       »\n",
       "«meas: 4/══════════════════════════════════════════════════════════════════»\n",
       "«                                                                          »\n",
       "«              ┌───┐    ░  ░ ┌─┐         \n",
       "« q56_0: ─■────┤ H ├─X──░──░─┤M├─────────\n",
       "«         │π/2 └───┘ │  ░  ░ └╥┘┌─┐      \n",
       "« q56_1: ─■──────────┼──░──░──╫─┤M├──────\n",
       "«                    │  ░  ░  ║ └╥┘┌─┐   \n",
       "« q56_2: ────────────X──░──░──╫──╫─┤M├───\n",
       "«                       ░  ░  ║  ║ └╥┘┌─┐\n",
       "« q56_3: ───────────────░──░──╫──╫──╫─┤M├\n",
       "«                       ░  ░  ║  ║  ║ └╥┘\n",
       "«meas: 4/═════════════════════╩══╩══╩══╩═\n",
       "«                             0  1  2  3 "
      ]
     },
     "execution_count": 24,
     "metadata": {},
     "output_type": "execute_result"
    }
   ],
   "source": [
    "qc.decompose().draw()"
   ]
  },
  {
   "cell_type": "code",
   "execution_count": 30,
   "metadata": {},
   "outputs": [],
   "source": [
    "def sim_real(qc):\n",
    "    \"\"\"simulate the circuit qc on a real device and return the prob dist\"\"\"\n",
    "    from qiskit import IBMQ\n",
    "    IBMQ.save_account('903ffcbecbe4edc379d77d44f37be4041be547c171a65040d2f54e4c6fdc2386b8d23b52010d86e9fd691d0e2e025d60fd1809f617eb6c13c911c139b6956f9c')\n",
    "    IBMQ.load_account()\n",
    "    provider = IBMQ.get_provider(hub='ibm-q')\n",
    "    provider.backends()\n",
    "    backend = least_busy(provider.backends(filters=lambda x: x.configuration().n_qubits <= 5 and\n",
    "                                   x.configuration().n_qubits >= 2 and\n",
    "                                   not x.configuration().simulator and x.status().operational==True))\n",
    "    print(\"least busy backend: \", backend)\n",
    "    from qiskit.tools.monitor import job_monitor\n",
    "\n",
    "    shots = 1024\n",
    "    job = execute(qc, backend=backend, shots=shots)\n",
    "\n",
    "    job_monitor(job, interval = 2)\n",
    "    results = job.result()\n",
    "    answer = results.get_counts(qc)\n",
    "    print(answer)\n",
    "    plot_histogram(answer)\n",
    "    return answer"
   ]
  },
  {
   "cell_type": "code",
   "execution_count": 31,
   "metadata": {},
   "outputs": [
    {
     "name": "stderr",
     "output_type": "stream",
     "text": [
      "configrc.store_credentials:WARNING:2021-01-23 03:08:09,360: Credentials already present. Set overwrite=True to overwrite.\n",
      "ibmqfactory.load_account:WARNING:2021-01-23 03:08:10,094: Credentials are already in use. The existing account in the session will be replaced.\n"
     ]
    },
    {
     "name": "stdout",
     "output_type": "stream",
     "text": [
      "least busy backend:  ibmq_athens\n",
      "Job Status: job has successfully run\n",
      "{'0000': 96, '0001': 116, '0010': 105, '0011': 143, '0100': 144, '0101': 88, '0110': 77, '0111': 61, '1000': 23, '1001': 23, '1010': 26, '1011': 18, '1100': 47, '1101': 25, '1110': 14, '1111': 18}\n"
     ]
    },
    {
     "data": {
      "text/plain": [
       "{'0000': 96,\n",
       " '0001': 116,\n",
       " '0010': 105,\n",
       " '0011': 143,\n",
       " '0100': 144,\n",
       " '0101': 88,\n",
       " '0110': 77,\n",
       " '0111': 61,\n",
       " '1000': 23,\n",
       " '1001': 23,\n",
       " '1010': 26,\n",
       " '1011': 18,\n",
       " '1100': 47,\n",
       " '1101': 25,\n",
       " '1110': 14,\n",
       " '1111': 18}"
      ]
     },
     "execution_count": 31,
     "metadata": {},
     "output_type": "execute_result"
    }
   ],
   "source": [
    "sim_real(qc)"
   ]
  },
  {
   "cell_type": "code",
   "execution_count": 27,
   "metadata": {},
   "outputs": [],
   "source": [
    "from qiskit.providers.ibmq import least_busy"
   ]
  },
  {
   "cell_type": "code",
   "execution_count": 28,
   "metadata": {},
   "outputs": [],
   "source": [
    "from qiskit import IBMQ, Aer, QuantumCircuit, ClassicalRegister, QuantumRegister, execute"
   ]
  },
  {
   "cell_type": "code",
   "execution_count": 29,
   "metadata": {},
   "outputs": [],
   "source": [
    "#import visualization\n",
    "from qiskit.visualization import plot_histogram"
   ]
  },
  {
   "cell_type": "code",
   "execution_count": 38,
   "metadata": {},
   "outputs": [
    {
     "data": {
      "image/png": "[encoded data removed]",
      "text/plain": [
       "<Figure size 504x360 with 1 Axes>"
      ]
     },
     "execution_count": 38,
     "metadata": {},
     "output_type": "execute_result"
    }
   ],
   "source": [
    " plot_histogram({'0000': 169,\n",
    " '0001': 161,\n",
    " '0010': 164,\n",
    " '0011': 174,\n",
    " '0100': 21,\n",
    " '0101': 28,\n",
    " '0110': 18,\n",
    " '0111': 27,\n",
    " '1000': 62,\n",
    " '1001': 55,\n",
    " '1010': 52,\n",
    " '1011': 63,\n",
    " '1100': 9,\n",
    " '1101': 5,\n",
    " '1110': 6,\n",
    " '1111': 10})"
   ]
  },
  {
   "cell_type": "code",
   "execution_count": 4,
   "metadata": {},
   "outputs": [
    {
     "data": {
      "image/png": "[encoded data removed]",
      "text/plain": [
       "<Figure size 504x360 with 1 Axes>"
      ]
     },
     "execution_count": 4,
     "metadata": {},
     "output_type": "execute_result"
    }
   ],
   "source": [
    " plot_histogram({'0000': 169,\n",
    " '0001': 161,\n",
    " '0010': 164,\n",
    " '0011': 174,\n",
    " '0100': 21,\n",
    " '0101': 28,\n",
    " '0110': 18,\n",
    " '0111': 27})"
   ]
  },
  {
   "cell_type": "code",
   "execution_count": 32,
   "metadata": {},
   "outputs": [
    {
     "data": {
      "image/png": "[encoded data removed]",
      "text/plain": [
       "<Figure size 504x360 with 1 Axes>"
      ]
     },
     "execution_count": 32,
     "metadata": {},
     "output_type": "execute_result"
    }
   ],
   "source": [
    " plot_histogram({'0000': 96,\n",
    " '0001': 116,\n",
    " '0010': 105,\n",
    " '0011': 143,\n",
    " '0100': 144,\n",
    " '0101': 88,\n",
    " '0110': 77,\n",
    " '0111': 61,\n",
    " '1000': 23,\n",
    " '1001': 23,\n",
    " '1010': 26,\n",
    " '1011': 18,\n",
    " '1100': 47,\n",
    " '1101': 25,\n",
    " '1110': 14,\n",
    " '1111': 18})"
   ]
  },
  {
   "cell_type": "code",
   "execution_count": null,
   "metadata": {},
   "outputs": [],
   "source": []
  }
 ],
 "metadata": {
  "kernelspec": {
   "display_name": "Python 3",
   "language": "python",
   "name": "python3"
  },
  "language_info": {
   "codemirror_mode": {
    "name": "ipython",
    "version": 3
   },
   "file_extension": ".py",
   "mimetype": "text/x-python",
   "name": "python",
   "nbconvert_exporter": "python",
   "pygments_lexer": "ipython3",
   "version": "3.8.5"
  }
 },
 "nbformat": 4,
 "nbformat_minor": 4
}
