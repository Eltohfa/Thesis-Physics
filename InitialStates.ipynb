{
 "cells": [
  {
   "cell_type": "code",
   "execution_count": 2,
   "metadata": {},
   "outputs": [],
   "source": [
    "import numpy as np\n",
    "from numpy import pi\n",
    "# importing Qiskit\n",
    "from qiskit import QuantumCircuit\n",
    "from qiskit import ClassicalRegister, QuantumRegister\n",
    "import matplotlib.pyplot as plt\n",
    "def sim_sv(qc,text):\n",
    "    \"\"\"Get the statevecor of the output of the circuit qc\"\"\"\n",
    "    #import libs\n",
    "    from qiskit_textbook.tools import vector2latex\n",
    "    from qiskit import Aer, execute\n",
    "    from qiskit.quantum_info import Statevector\n",
    "    #code\n",
    "    sv_sim = Aer.get_backend('statevector_simulator')\n",
    "    sv = execute (qc, sv_sim).result().get_statevector()\n",
    "    #vector2latex(sv, pretext = \"|\"+ text + \"\\\\rangle =\")\n",
    "    return sv\n",
    "def qft_rotations(circuit, n):\n",
    "    \"\"\"Performs qft on the first n qubits in circuit (without swaps)\"\"\"\n",
    "    for i in range (n):\n",
    "        circuit.h(i)\n",
    "        m = 1\n",
    "        for j in range (i+1,n):\n",
    "            m = m +1; \n",
    "            circuit.cu1(-2*pi/2**(m), i, j)\n",
    "def swap_registers(circuit, n):\n",
    "    for qubit in range(n//2):\n",
    "        circuit.swap(qubit, n-qubit-1)\n",
    "    return circuit\n",
    "def makeQFTgate(N):\n",
    "    \"\"\"returns a gate of centred QFT, swaps qubits\"\"\"\n",
    "    temp = QuantumCircuit (N)\n",
    "    swap_registers(temp, N)\n",
    "    qft_rotations(temp,N)\n",
    "    #temp.x(n-1);\n",
    "    QFTC = temp.to_gate()\n",
    "    QFTC.name = \"QFT_\" + str(N) \n",
    "    return QFTC\n",
    "def phase(n, phi):\n",
    "    \"\"\"returns the phase transformation gate for n qubits\"\"\"\n",
    "    qc = QuantumCircuit(n+1);\n",
    "    for i in range (n):\n",
    "        qc.u1(phi/(2**(i+n-3)), n-1-i)\n",
    "    for i in range (n):\n",
    "        for j in range (i+1,n):\n",
    "            qc.cx(n-1-j, n)\n",
    "            qc.cx(n-1-i, n)\n",
    "            qc.u1(phi* (2**(2-i-j)), n) #2-i-j or 4?\n",
    "            qc.cx(n-1-i, n)\n",
    "            qc.cx(n-1-j, n)\n",
    "    phcirc = qc.to_gate()\n",
    "    phcirc.name = 'phase'+str(phi)\n",
    "    return phcirc\n",
    "##parameters\n",
    "n = 10; ## number of qubits\n",
    "phi = 50*pi; ##time of evolution \n",
    "## initial conditions\n",
    "#initial_state = [0,1,1,0] # n=2 Pi function\n",
    "#initial_state = [0,0,1,1,1,1,0,0] #n=3 Pi function\n",
    "#initial_state = [1,1,1,1,1,1,1,1] #n=3 flat\n",
    "#eigenvector of momentum? flat!! so it is not a particle in a well. it is a periodic boundary condition. Wow!!\n",
    "\n",
    "\n",
    "#n=2 mom eigenstates \n",
    "#initial_state = np.conj([1,-1,0+1j,0-1j]) #mom eigenvector no x no swap\n",
    "#initial_state = [1,-1,0+1j,0-1j] #mom eigenvector no x no swap\n",
    "#initial_state = [1,1,1,1] #mom eigenvector no x no swap\n",
    "#initial_state = [1,1,-1,-1] #mom eigenvector no x no swap \n",
    "\n",
    "#my first superposition sin or cos \n",
    "#initial_state = [1,-1,0+1j,0-1j]+ np.conj([1,-1,0+1j,0-1j])\n",
    "#initial_state= np.fft.fft([0,1],4)\n",
    "#initial_state= np.fft.fft([1,0,0,0],4)+ np.fft.fft([0,0,1,0],4)\n",
    "\n",
    "##general energy state \n",
    "#i=2\n",
    "#mom = np.zeros(2**n);\n",
    "#mom[i]=1\n",
    "#mom [2**n-i]=1\n",
    "#initial_state= np.fft.fft(mom,2**n)\n",
    "#initial_state = [-3.53553391e-01+8.65956056e-17j,  2.50000000e-01-2.50000000e-01j,\n",
    "#        1.08244507e-16+3.53553391e-01j, -2.50000000e-01-2.50000000e-01j,\n",
    "#        3.53553391e-01-8.65956056e-17j, -2.50000000e-01+2.50000000e-01j,\n",
    "#       -1.08244507e-16-3.53553391e-01j,  2.50000000e-01+2.50000000e-01j] #vector from the QFT matrix\n",
    "\n",
    "\n",
    "#initial_state = [0,0,0,0,1,1,1,1,1,1,1,1,0,0,0,0] # n=4 Pi function\n",
    "#initial_state = np.sqrt(np.exp(-(np.linspace(0,15, 16) - 7.5)**2/(2*4**2))) # n=4 Centred Gaussian\n",
    "#initial_state =np.sin((np.linspace(0,15, 16) + 0.5)* pi/16) # n=4 Centred Sin\n",
    "#initial_state =np.sin((np.linspace(0,2**n-1, 2**n) + 0.5)* 2 *pi/2 **n) # n Centred Sin\n",
    "#initial_state = np.sqrt(np.exp(-(np.linspace(0,2**n-1, 2**n) - (2**n/3) +0.5)**2/(2*15**2))) # n Centred Gaussian\n",
    "initial_state = np.sqrt(np.exp(-(np.linspace(0,2**n-1, 2**n) - (2**n/3) +0.5)**2/(2*15**2)))+np.sqrt(np.exp(-(np.linspace(0,2**n-1, 2**n) - (2*2**n/3) +0.5)**2/(2*15**2)))\n",
    "## make the circuit\n",
    "n1 = n+1;\n",
    "#qubits\n",
    "q = QuantumRegister(n1)\n",
    "qc = QuantumCircuit(q)\n",
    "qc.barrier();\n",
    "#initialization\n",
    "magnitude = np.linalg.norm(initial_state)\n",
    "initial_state =initial_state/magnitude\n",
    "qc.initialize(initial_state, list(range(n))) \n",
    "qc.barrier();\n",
    "#QFT\n",
    "QFT = makeQFTgate(n)\n",
    "qc.append(QFT,range(n))\n",
    "qc.barrier();\n",
    "#phase\n",
    "ph = phase (n,phi)\n",
    "qc.append(ph,range(n+1))\n",
    "qc.barrier();\n",
    "#inverse QFT\n",
    "QFTi = QFT.inverse()\n",
    "QFTi.name = \"QFTi_\" + str(n)\n",
    "qc.append(QFTi,list(range(n)))\n",
    "qc.barrier();\n",
    "# another phase for the harmonic potential\n",
    "#qc.append(ph,range(n+1))\n",
    "#qc.barrier();\n",
    "#qc.draw('mpl')\n",
    "#print(initial_state)"
   ]
  },
  {
   "cell_type": "code",
   "execution_count": 3,
   "metadata": {},
   "outputs": [
    {
     "data": {
      "text/plain": [
       "<matplotlib.legend.Legend at 0x222f9981be0>"
      ]
     },
     "execution_count": 3,
     "metadata": {},
     "output_type": "execute_result"
    },
    {
     "data": {
      "image/png": "[encoded data removed]",
      "text/plain": [
       "<Figure size 432x288 with 1 Axes>"
      ]
     },
     "metadata": {
      "needs_background": "light"
     },
     "output_type": "display_data"
    }
   ],
   "source": [
    "    plt.plot(np.square(abs(initial_state)),'b')\n",
    "    finalstate = sim_sv(qc,'\\psi')\n",
    "    plt.plot(np.square(abs(finalstate)),'r')\n",
    "    plt.axis([0, 2**n-1, 0, 1.1*max(np.square(abs(initial_state)))])\n",
    "    plt.legend([\"intially\", \"finally\"])"
   ]
  },
  {
   "cell_type": "code",
   "execution_count": null,
   "metadata": {},
   "outputs": [],
   "source": []
  }
 ],
 "metadata": {
  "kernelspec": {
   "display_name": "Python 3",
   "language": "python",
   "name": "python3"
  },
  "language_info": {
   "codemirror_mode": {
    "name": "ipython",
    "version": 3
   },
   "file_extension": ".py",
   "mimetype": "text/x-python",
   "name": "python",
   "nbconvert_exporter": "python",
   "pygments_lexer": "ipython3",
   "version": "3.8.3"
  }
 },
 "nbformat": 4,
 "nbformat_minor": 4
}
